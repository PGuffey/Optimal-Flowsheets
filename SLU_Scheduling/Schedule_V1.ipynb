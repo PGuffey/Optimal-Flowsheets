{
 "cells": [
  {
   "cell_type": "code",
   "execution_count": 1,
   "metadata": {},
   "outputs": [
    {
     "data": {
      "text/html": [
       "<div>\n",
       "<style scoped>\n",
       "    .dataframe tbody tr th:only-of-type {\n",
       "        vertical-align: middle;\n",
       "    }\n",
       "\n",
       "    .dataframe tbody tr th {\n",
       "        vertical-align: top;\n",
       "    }\n",
       "\n",
       "    .dataframe thead th {\n",
       "        text-align: right;\n",
       "    }\n",
       "</style>\n",
       "<table border=\"1\" class=\"dataframe\">\n",
       "  <thead>\n",
       "    <tr style=\"text-align: right;\">\n",
       "      <th></th>\n",
       "      <th>Prerequisites</th>\n",
       "      <th>Concurrent Enrollment</th>\n",
       "      <th>Major</th>\n",
       "      <th>Course Name</th>\n",
       "      <th>Course Details</th>\n",
       "      <th>Credits</th>\n",
       "      <th>Repeatable</th>\n",
       "    </tr>\n",
       "  </thead>\n",
       "  <tbody>\n",
       "    <tr>\n",
       "      <th>0</th>\n",
       "      <td>NaN</td>\n",
       "      <td>False</td>\n",
       "      <td>Academic English Program (AEP)</td>\n",
       "      <td>AEP 0100</td>\n",
       "      <td>Writing and Grammar Level 1: Beginner</td>\n",
       "      <td>4</td>\n",
       "      <td>False</td>\n",
       "    </tr>\n",
       "    <tr>\n",
       "      <th>1</th>\n",
       "      <td>NaN</td>\n",
       "      <td>False</td>\n",
       "      <td>Academic English Program (AEP)</td>\n",
       "      <td>AEP 0120</td>\n",
       "      <td>Reading and Vocabulary Level 1: Beginner</td>\n",
       "      <td>4</td>\n",
       "      <td>False</td>\n",
       "    </tr>\n",
       "    <tr>\n",
       "      <th>2</th>\n",
       "      <td>NaN</td>\n",
       "      <td>False</td>\n",
       "      <td>Academic English Program (AEP)</td>\n",
       "      <td>AEP 0130</td>\n",
       "      <td>Listening and Speaking Level 1: Beginner</td>\n",
       "      <td>4</td>\n",
       "      <td>False</td>\n",
       "    </tr>\n",
       "    <tr>\n",
       "      <th>3</th>\n",
       "      <td>NaN</td>\n",
       "      <td>False</td>\n",
       "      <td>Academic English Program (AEP)</td>\n",
       "      <td>AEP 0200</td>\n",
       "      <td>Writing and Grammar Level 2: High Beginner</td>\n",
       "      <td>4</td>\n",
       "      <td>False</td>\n",
       "    </tr>\n",
       "    <tr>\n",
       "      <th>4</th>\n",
       "      <td>NaN</td>\n",
       "      <td>False</td>\n",
       "      <td>Academic English Program (AEP)</td>\n",
       "      <td>AEP 0220</td>\n",
       "      <td>Reading and Vocabulary Level 2: High Beginner</td>\n",
       "      <td>4</td>\n",
       "      <td>False</td>\n",
       "    </tr>\n",
       "  </tbody>\n",
       "</table>\n",
       "</div>"
      ],
      "text/plain": [
       "  Prerequisites  Concurrent Enrollment                           Major  \\\n",
       "0           NaN                  False  Academic English Program (AEP)   \n",
       "1           NaN                  False  Academic English Program (AEP)   \n",
       "2           NaN                  False  Academic English Program (AEP)   \n",
       "3           NaN                  False  Academic English Program (AEP)   \n",
       "4           NaN                  False  Academic English Program (AEP)   \n",
       "\n",
       "  Course Name                                 Course Details  Credits  \\\n",
       "0    AEP 0100          Writing and Grammar Level 1: Beginner        4   \n",
       "1    AEP 0120       Reading and Vocabulary Level 1: Beginner        4   \n",
       "2    AEP 0130       Listening and Speaking Level 1: Beginner        4   \n",
       "3    AEP 0200     Writing and Grammar Level 2: High Beginner        4   \n",
       "4    AEP 0220  Reading and Vocabulary Level 2: High Beginner        4   \n",
       "\n",
       "   Repeatable  \n",
       "0       False  \n",
       "1       False  \n",
       "2       False  \n",
       "3       False  \n",
       "4       False  "
      ]
     },
     "execution_count": 1,
     "metadata": {},
     "output_type": "execute_result"
    }
   ],
   "source": [
    "import pandas as pd\n",
    "from typing import List, Tuple, Union\n",
    "\n",
    "courses_df = pd.read_csv('C:\\\\Users\\\\payto\\Desktop\\\\Other_CS\\\\Programming\\\\Projects\\\\cleaned_slu_courses2.csv')\n",
    "\n",
    "courses_df.head()"
   ]
  },
  {
   "cell_type": "code",
   "execution_count": 24,
   "metadata": {},
   "outputs": [],
   "source": [
    "def check_prerequisites(course: str, completed_courses: List[str]) -> bool:\n",
    "    \"\"\"\n",
    "    Check if the prerequisites for a given course are met.\n",
    "\n",
    "    Args:\n",
    "        course (str): The course to check prerequisites for.\n",
    "        completed_courses (List[str]): List of courses already completed by the student.\n",
    "\n",
    "    Returns:\n",
    "        bool: True if all prerequisites are met, False otherwise.\n",
    "    \"\"\"\n",
    "    prerequisites = courses_df[courses_df['Course Name'] == course]['Prerequisites'].values[0]\n",
    "    if prerequisites:\n",
    "        return all(prereq in completed_courses for prereq in prerequisites.split(', '))\n",
    "    return True\n",
    "\n"
   ]
  },
  {
   "cell_type": "code",
   "execution_count": 21,
   "metadata": {},
   "outputs": [],
   "source": [
    "def organize_classes(courses: List[str], max_credits_per_semester: int) -> Union[str, List[List[str]]]:\n",
    "    \"\"\"\n",
    "    Organize the given classes into the best fit possible based on prerequisites.\n",
    "\n",
    "    Args:\n",
    "        courses (List[str]): List of courses to organize.\n",
    "        max_credits_per_semester (int): Maximum number of credits allowed per semester.\n",
    "\n",
    "    Returns:\n",
    "        Union[str, List[List[str]]]: The organized schedule or an error message if a feasible schedule cannot be generated.\n",
    "    \"\"\"\n",
    "    schedule = []\n",
    "    current_semester = []\n",
    "    current_credits = 0\n",
    "    completed_courses = set()\n",
    "\n",
    "    while courses:\n",
    "        added_this_semester = []\n",
    "\n",
    "        for course in courses:\n",
    "            course_credits = courses_df[courses_df['Course Name'] == course]['Credits'].values[0]\n",
    "            if check_prerequisites(course, completed_courses):\n",
    "                if current_credits + course_credits <= max_credits_per_semester:\n",
    "                    current_semester.append(course)\n",
    "                    current_credits += course_credits\n",
    "                    added_this_semester.append(course)\n",
    "\n",
    "        if not added_this_semester:\n",
    "            return \"Unable to generate a feasible schedule due to unmet prerequisites.\"\n",
    "\n",
    "        schedule.append(current_semester)\n",
    "        completed_courses.update(current_semester)\n",
    "        courses = [course for course in courses if course not in added_this_semester]\n",
    "        current_semester = []\n",
    "        current_credits = 0\n",
    "\n",
    "    return schedule\n"
   ]
  },
  {
   "cell_type": "code",
   "execution_count": 25,
   "metadata": {},
   "outputs": [
    {
     "ename": "IndexError",
     "evalue": "index 0 is out of bounds for axis 0 with size 0",
     "output_type": "error",
     "traceback": [
      "\u001b[1;31m---------------------------------------------------------------------------\u001b[0m",
      "\u001b[1;31mIndexError\u001b[0m                                Traceback (most recent call last)",
      "Cell \u001b[1;32mIn[25], line 5\u001b[0m\n\u001b[0;32m      2\u001b[0m courses_to_take \u001b[38;5;241m=\u001b[39m [\u001b[38;5;124m'\u001b[39m\u001b[38;5;124mCSCI 1070\u001b[39m\u001b[38;5;124m'\u001b[39m, \u001b[38;5;124m'\u001b[39m\u001b[38;5;124mCSCI 2100\u001b[39m\u001b[38;5;124m'\u001b[39m, \u001b[38;5;124m'\u001b[39m\u001b[38;5;124mMATH 1520\u001b[39m\u001b[38;5;124m'\u001b[39m, \u001b[38;5;124m'\u001b[39m\u001b[38;5;124mPHIL 1700\u001b[39m\u001b[38;5;124m'\u001b[39m, \u001b[38;5;124m'\u001b[39m\u001b[38;5;124mCORE 1000\u001b[39m\u001b[38;5;124m'\u001b[39m, \u001b[38;5;124m'\u001b[39m\u001b[38;5;124mCSCI 1300\u001b[39m\u001b[38;5;124m'\u001b[39m, \u001b[38;5;124m'\u001b[39m\u001b[38;5;124mMATH 1660\u001b[39m\u001b[38;5;124m'\u001b[39m]\n\u001b[0;32m      3\u001b[0m max_credits_per_semester \u001b[38;5;241m=\u001b[39m \u001b[38;5;241m18\u001b[39m\n\u001b[1;32m----> 5\u001b[0m schedule \u001b[38;5;241m=\u001b[39m \u001b[43morganize_classes\u001b[49m\u001b[43m(\u001b[49m\u001b[43mcourses_to_take\u001b[49m\u001b[43m,\u001b[49m\u001b[43m \u001b[49m\u001b[43mmax_credits_per_semester\u001b[49m\u001b[43m)\u001b[49m\n\u001b[0;32m      6\u001b[0m \u001b[38;5;28mprint\u001b[39m(schedule)\n",
      "Cell \u001b[1;32mIn[21], line 21\u001b[0m, in \u001b[0;36morganize_classes\u001b[1;34m(courses, max_credits_per_semester)\u001b[0m\n\u001b[0;32m     18\u001b[0m added_this_semester \u001b[38;5;241m=\u001b[39m []\n\u001b[0;32m     20\u001b[0m \u001b[38;5;28;01mfor\u001b[39;00m course \u001b[38;5;129;01min\u001b[39;00m courses:\n\u001b[1;32m---> 21\u001b[0m     course_credits \u001b[38;5;241m=\u001b[39m \u001b[43mcourses_df\u001b[49m\u001b[43m[\u001b[49m\u001b[43mcourses_df\u001b[49m\u001b[43m[\u001b[49m\u001b[38;5;124;43m'\u001b[39;49m\u001b[38;5;124;43mCourse Name\u001b[39;49m\u001b[38;5;124;43m'\u001b[39;49m\u001b[43m]\u001b[49m\u001b[43m \u001b[49m\u001b[38;5;241;43m==\u001b[39;49m\u001b[43m \u001b[49m\u001b[43mcourse\u001b[49m\u001b[43m]\u001b[49m\u001b[43m[\u001b[49m\u001b[38;5;124;43m'\u001b[39;49m\u001b[38;5;124;43mCredits\u001b[39;49m\u001b[38;5;124;43m'\u001b[39;49m\u001b[43m]\u001b[49m\u001b[38;5;241;43m.\u001b[39;49m\u001b[43mvalues\u001b[49m\u001b[43m[\u001b[49m\u001b[38;5;241;43m0\u001b[39;49m\u001b[43m]\u001b[49m\n\u001b[0;32m     22\u001b[0m     \u001b[38;5;28;01mif\u001b[39;00m check_prerequisites(course, completed_courses):\n\u001b[0;32m     23\u001b[0m         \u001b[38;5;28;01mif\u001b[39;00m current_credits \u001b[38;5;241m+\u001b[39m course_credits \u001b[38;5;241m<\u001b[39m\u001b[38;5;241m=\u001b[39m max_credits_per_semester:\n",
      "\u001b[1;31mIndexError\u001b[0m: index 0 is out of bounds for axis 0 with size 0"
     ]
    }
   ],
   "source": [
    "# Example input\n",
    "courses_to_take = ['CSCI 1070', 'CSCI 2100', 'MATH 1520', 'PHIL 1700', 'CORE 1000', 'CSCI 1300', 'MATH 1660']\n",
    "max_credits_per_semester = 18\n",
    "\n",
    "schedule = organize_classes(courses_to_take, max_credits_per_semester)\n",
    "print(schedule)\n"
   ]
  },
  {
   "cell_type": "code",
   "execution_count": 3,
   "metadata": {},
   "outputs": [
    {
     "ename": "IndexError",
     "evalue": "index 0 is out of bounds for axis 0 with size 0",
     "output_type": "error",
     "traceback": [
      "\u001b[1;31m---------------------------------------------------------------------------\u001b[0m",
      "\u001b[1;31mIndexError\u001b[0m                                Traceback (most recent call last)",
      "Cell \u001b[1;32mIn[3], line 2\u001b[0m\n\u001b[0;32m      1\u001b[0m course \u001b[38;5;241m=\u001b[39m \u001b[38;5;124m'\u001b[39m\u001b[38;5;124mCSCI 2100\u001b[39m\u001b[38;5;124m'\u001b[39m\n\u001b[1;32m----> 2\u001b[0m prerequisites \u001b[38;5;241m=\u001b[39m \u001b[43mcourses_df\u001b[49m\u001b[43m[\u001b[49m\u001b[43mcourses_df\u001b[49m\u001b[43m[\u001b[49m\u001b[38;5;124;43m'\u001b[39;49m\u001b[38;5;124;43mCourse Name\u001b[39;49m\u001b[38;5;124;43m'\u001b[39;49m\u001b[43m]\u001b[49m\u001b[43m \u001b[49m\u001b[38;5;241;43m==\u001b[39;49m\u001b[43m \u001b[49m\u001b[43mcourse\u001b[49m\u001b[43m]\u001b[49m\u001b[43m[\u001b[49m\u001b[38;5;124;43m'\u001b[39;49m\u001b[38;5;124;43mPrerequisites\u001b[39;49m\u001b[38;5;124;43m'\u001b[39;49m\u001b[43m]\u001b[49m\u001b[38;5;241;43m.\u001b[39;49m\u001b[43mvalues\u001b[49m\u001b[43m[\u001b[49m\u001b[38;5;241;43m0\u001b[39;49m\u001b[43m]\u001b[49m\n\u001b[0;32m      3\u001b[0m prerequisites\n",
      "\u001b[1;31mIndexError\u001b[0m: index 0 is out of bounds for axis 0 with size 0"
     ]
    }
   ],
   "source": [
    "course = 'CSCI 2100'\n",
    "prerequisites = courses_df[courses_df['Course Name'] == course]['Prerequisites'].values[0]\n",
    "prerequisites"
   ]
  },
  {
   "cell_type": "code",
   "execution_count": null,
   "metadata": {},
   "outputs": [],
   "source": []
  }
 ],
 "metadata": {
  "kernelspec": {
   "display_name": ".venv",
   "language": "python",
   "name": "python3"
  },
  "language_info": {
   "codemirror_mode": {
    "name": "ipython",
    "version": 3
   },
   "file_extension": ".py",
   "mimetype": "text/x-python",
   "name": "python",
   "nbconvert_exporter": "python",
   "pygments_lexer": "ipython3",
   "version": "3.11.5"
  }
 },
 "nbformat": 4,
 "nbformat_minor": 2
}
